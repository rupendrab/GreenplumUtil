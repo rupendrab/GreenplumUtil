{
 "cells": [
  {
   "cell_type": "code",
   "execution_count": 1,
   "metadata": {
    "collapsed": true
   },
   "outputs": [],
   "source": [
    "import matplotlib.pyplot as plt\n",
    "import random\n",
    "import numpy as np"
   ]
  },
  {
   "cell_type": "code",
   "execution_count": 2,
   "metadata": {
    "collapsed": true
   },
   "outputs": [],
   "source": [
    "%matplotlib inline"
   ]
  },
  {
   "cell_type": "code",
   "execution_count": 3,
   "metadata": {
    "collapsed": true
   },
   "outputs": [],
   "source": [
    "### Define input risk parameters\n",
    "\n",
    "\"\"\"\n",
    "The following data defines your expectation of server failure by server age. e.g. the first line below indicates\n",
    "that you expect a master server to fail in the first 30 days with a probability if 0.001 or 0.1%.\n",
    "\"\"\"\n",
    "master_server_life_parameters = [\n",
    "    (0, 30, 0.001),\n",
    "    (31, 60, 0.001),\n",
    "    (61, 90, 0.001),\n",
    "    (91, 120, 0.005),\n",
    "    (121, 150, 0.005),\n",
    "    (151, 180, 0.005),\n",
    "    (181, 210, 0.005),\n",
    "    (211, 240, 0.005),\n",
    "    (241, 270, 0.005),\n",
    "    (271, 300, 0.005),\n",
    "    (301, 330, 0.01),\n",
    "    (331, 360, 0.01),\n",
    "    (361, 10000, 0.02)\n",
    "]\n",
    "\n",
    "segment_server_life_parameters = [\n",
    "    (0, 30, 0.001),\n",
    "    (31, 60, 0.005),\n",
    "    (61, 90, 0.01),\n",
    "    (91, 120, 0.01),\n",
    "    (121, 150, 0.01),\n",
    "    (151, 180, 0.01),\n",
    "    (181, 210, 0.02),\n",
    "    (211, 240, 0.02),\n",
    "    (241, 270, 0.02),\n",
    "    (271, 300, 0.02),\n",
    "    (301, 330, 0.02),\n",
    "    (331, 360, 0.02),\n",
    "    (361, 10000, 0.05)\n",
    "]"
   ]
  },
  {
   "cell_type": "code",
   "execution_count": 4,
   "metadata": {
    "collapsed": false
   },
   "outputs": [],
   "source": [
    "## Validate and set up\n",
    "\n",
    "DEBUG = False\n",
    "\n",
    "class GPEnv(object):\n",
    "    \n",
    "    def __init__(self, no_servers, mirror_group):\n",
    "        self.servers = []\n",
    "        self.no_servers = no_servers\n",
    "        self.mirror_group = mirror_group\n",
    "        print(\"GPEnv\")\n",
    "        print(\"    Number of Servers = %d\" % no_servers)\n",
    "        print(\"    Mirror Group Size = %d\" % mirror_group)\n",
    "\n",
    "        self.valid = True\n",
    "        if (no_servers % 2 != 0):\n",
    "            self.valid = False\n",
    "            print(\"Number of Servers must be even!\")\n",
    "        elif ((no_servers - 2) % mirror_group != 0):\n",
    "            self.valid = False\n",
    "            print(\"Invalid mirror group configuration !!!\")\n",
    "\n",
    "                \n",
    "        if (self.valid):\n",
    "            self.servers = range(0,no_servers)\n",
    "            self.mdw = 0\n",
    "            self.smdw = 1\n",
    "    \n",
    "        self.server_status = {}\n",
    "        for srv in self.servers:\n",
    "            self.server_status[srv] = 1\n",
    "\n",
    "        self.server_life = {}\n",
    "        for srv in self.servers:\n",
    "            self.server_life[srv] = 0\n",
    "\n",
    "    def mirror_group_of_server(self, serverno):\n",
    "        if (serverno < 2):\n",
    "            return 0\n",
    "        elif (serverno >= self.no_servers):\n",
    "            return -1\n",
    "        else:\n",
    "            return 1 + (serverno - 2) / self.mirror_group\n",
    "\n",
    "    def check_server_groups(self):\n",
    "        for srv in self.servers:\n",
    "            print \"%d \\t- %d\" % (srv, self.mirror_group_of_server(srv))\n",
    "    \n",
    "    def prob_of_failure(self, serverno):\n",
    "        life = self.server_life[serverno]\n",
    "        if (serverno < 2):\n",
    "            lookup = master_server_life_parameters\n",
    "        else:\n",
    "            lookup = segment_server_life_parameters\n",
    "        for (st, en, prob) in lookup:\n",
    "            if (life >= st and life <= en):\n",
    "                return prob\n",
    "\n",
    "    def new_day_server(self, serverno):\n",
    "        life = self.server_life[serverno] + 1\n",
    "        self.server_life[serverno] = life\n",
    "        p = self.prob_of_failure(serverno)\n",
    "        failed = random.uniform(0,1) <= p\n",
    "        if (failed):\n",
    "            self.server_status[serverno] = 0\n",
    "        else:\n",
    "            self.server_status[serverno] = 1\n",
    "        return failed\n",
    "\n",
    "    def new_day(self):\n",
    "        fail_count = 0\n",
    "        failed_servers = []\n",
    "        for srv in self.servers:\n",
    "            server_failed = self.new_day_server(srv)\n",
    "            if (server_failed):\n",
    "                failed_servers.append(srv)\n",
    "        if (len(failed_servers) > 0):\n",
    "            failures_by_group = {}\n",
    "            for srv in failed_servers:\n",
    "                mg = self.mirror_group_of_server(srv)\n",
    "                existing = failures_by_group.get(mg)\n",
    "                if existing:\n",
    "                    failures_by_group[mg] = existing + 1\n",
    "                else:\n",
    "                    failures_by_group[mg] = 1\n",
    "            for (mg, cnt) in failures_by_group.iteritems():\n",
    "                if (cnt >= 2):\n",
    "                    fail_count += cnt / 2\n",
    "        if (fail_count > 0 and DEBUG):\n",
    "            print(self.server_status)\n",
    "        for srv in failed_servers:\n",
    "            self.server_life[srv] = 0\n",
    "            self.server_status[srv] = 1\n",
    "        return fail_count\n",
    "\n",
    "    def run_scenario(self, days):\n",
    "        days_failed = 0\n",
    "        for i in range(days):\n",
    "            fail_count = self.new_day()\n",
    "            if (fail_count > 0):\n",
    "                days_failed += 1\n",
    "        return days_failed\n",
    "\n",
    "    def run_simulation(self, cnt, days):\n",
    "        print(\"Running simulation.....\")\n",
    "        if not self.valid:\n",
    "            return\n",
    "        self.fail_counts = [0] * cnt\n",
    "        for i in range(cnt):\n",
    "            self.fail_counts[i] = self.run_scenario(days)\n",
    "        print(\"complete.\")\n",
    "        return self.fail_counts\n",
    "\n",
    "    ## Show simulation results\n",
    "    def show_sim_results(self):\n",
    "        data = self.fail_counts\n",
    "        if not data:\n",
    "            return\n",
    "        print(\"Simulation results for %d servers\" % self.no_servers)\n",
    "        print(\"=================================\")\n",
    "        print(\"\")\n",
    "        pcts = [100.0 * d / 2000 for d in data]\n",
    "        data = np.array(data)\n",
    "        pcts = np.array(pcts)\n",
    "        print(\"Chance of failure in percentage\")\n",
    "        print(\"Min = %0.2f\" % pcts.min())\n",
    "        print(\"Avg = %0.2f\" % pcts.mean())\n",
    "        print(\"Max = %0.2f\" % pcts.max())\n",
    "        print('')\n",
    "        print(\"Number of failures in 2000 days\")\n",
    "        print(\"Min = %0.2f\" % data.min())\n",
    "        print(\"Avg = %0.2f\" % data.mean())\n",
    "        print(\"Max = %0.2f\" % data.max())\n",
    "        plt.hist(data)\n",
    "        plt.title(\"Histogram\")\n",
    "        plt.xlabel(\"Number of failures in 2000 days\")\n",
    "        plt.ylabel(\"Frequency\")\n",
    "        plt.show()\n"
   ]
  },
  {
   "cell_type": "code",
   "execution_count": 5,
   "metadata": {
    "collapsed": false
   },
   "outputs": [
    {
     "name": "stdout",
     "output_type": "stream",
     "text": [
      "GPEnv\n",
      "    Number of Servers = 6\n",
      "    Mirror Group Size = 4\n",
      "Running simulation.....\n",
      "complete.\n",
      "GPEnv\n",
      "    Number of Servers = 10\n",
      "    Mirror Group Size = 4\n",
      "Running simulation.....\n",
      "complete.\n",
      "GPEnv\n",
      "    Number of Servers = 18\n",
      "    Mirror Group Size = 4\n",
      "Running simulation.....\n",
      "complete.\n",
      "GPEnv\n",
      "    Number of Servers = 34\n",
      "    Mirror Group Size = 4\n",
      "Running simulation.....\n",
      "complete.\n",
      "GPEnv\n",
      "    Number of Servers = 102\n",
      "    Mirror Group Size = 4\n",
      "Running simulation.....\n",
      "complete.\n"
     ]
    }
   ],
   "source": [
    "## Run the simulations\n",
    "no_servers_arr = [6, 10, 18, 34, 102] ### Number of servers including master and standby master server\n",
    "mirror_group = 4  ### Number of segment servers in each mirror group\n",
    "\n",
    "envs = []\n",
    "for no_servers in no_servers_arr:\n",
    "    env = GPEnv(no_servers, mirror_group)\n",
    "    data = env.run_simulation(1000, 2000)\n",
    "    envs.append(env)\n"
   ]
  },
  {
   "cell_type": "code",
   "execution_count": 6,
   "metadata": {
    "collapsed": false
   },
   "outputs": [
    {
     "name": "stdout",
     "output_type": "stream",
     "text": [
      "Simulation results for 6 servers\n",
      "=================================\n",
      "\n",
      "Chance of failure in percentage\n",
      "Min = 0.00\n",
      "Avg = 0.04\n",
      "Max = 0.25\n",
      "\n",
      "Number of failures in 2000 days\n",
      "Min = 0.00\n",
      "Avg = 0.75\n",
      "Max = 5.00\n"
     ]
    },
    {
     "data": {
      "image/png": "[encoded data removed]",
      "text/plain": [
       "<matplotlib.figure.Figure at 0x7f0d810>"
      ]
     },
     "metadata": {},
     "output_type": "display_data"
    },
    {
     "name": "stdout",
     "output_type": "stream",
     "text": [
      "Simulation results for 10 servers\n",
      "=================================\n",
      "\n",
      "Chance of failure in percentage\n",
      "Min = 0.00\n",
      "Avg = 0.07\n",
      "Max = 0.30\n",
      "\n",
      "Number of failures in 2000 days\n",
      "Min = 0.00\n",
      "Avg = 1.47\n",
      "Max = 6.00\n"
     ]
    },
    {
     "data": {
      "image/png": "[encoded data removed]",
      "text/plain": [
       "<matplotlib.figure.Figure at 0x81370b0>"
      ]
     },
     "metadata": {},
     "output_type": "display_data"
    },
    {
     "name": "stdout",
     "output_type": "stream",
     "text": [
      "Simulation results for 18 servers\n",
      "=================================\n",
      "\n",
      "Chance of failure in percentage\n",
      "Min = 0.00\n",
      "Avg = 0.15\n",
      "Max = 0.55\n",
      "\n",
      "Number of failures in 2000 days\n",
      "Min = 0.00\n",
      "Avg = 2.96\n",
      "Max = 11.00\n"
     ]
    },
    {
     "data": {
      "image/png": "[encoded data removed]",
      "text/plain": [
       "<matplotlib.figure.Figure at 0x812bd50>"
      ]
     },
     "metadata": {},
     "output_type": "display_data"
    },
    {
     "name": "stdout",
     "output_type": "stream",
     "text": [
      "Simulation results for 34 servers\n",
      "=================================\n",
      "\n",
      "Chance of failure in percentage\n",
      "Min = 0.00\n",
      "Avg = 0.29\n",
      "Max = 0.80\n",
      "\n",
      "Number of failures in 2000 days\n",
      "Min = 0.00\n",
      "Avg = 5.78\n",
      "Max = 16.00\n"
     ]
    },
    {
     "data": {
      "image/png": "[encoded data removed]",
      "text/plain": [
       "<matplotlib.figure.Figure at 0x8362850>"
      ]
     },
     "metadata": {},
     "output_type": "display_data"
    },
    {
     "name": "stdout",
     "output_type": "stream",
     "text": [
      "Simulation results for 102 servers\n",
      "=================================\n",
      "\n",
      "Chance of failure in percentage\n",
      "Min = 0.25\n",
      "Avg = 0.91\n",
      "Max = 1.60\n",
      "\n",
      "Number of failures in 2000 days\n",
      "Min = 5.00\n",
      "Avg = 18.24\n",
      "Max = 32.00\n"
     ]
    },
    {
     "data": {
      "image/png": "[encoded data removed]",
      "text/plain": [
       "<matplotlib.figure.Figure at 0x851d230>"
      ]
     },
     "metadata": {},
     "output_type": "display_data"
    }
   ],
   "source": [
    "for env in envs:\n",
    "    env.show_sim_results()\n"
   ]
  }
 ],
 "metadata": {
  "kernelspec": {
   "display_name": "Python 2",
   "language": "python",
   "name": "python2"
  },
  "language_info": {
   "codemirror_mode": {
    "name": "ipython",
    "version": 2
   },
   "file_extension": ".py",
   "mimetype": "text/x-python",
   "name": "python",
   "nbconvert_exporter": "python",
   "pygments_lexer": "ipython2",
   "version": "2.7.2"
  }
 },
 "nbformat": 4,
 "nbformat_minor": 0
}
